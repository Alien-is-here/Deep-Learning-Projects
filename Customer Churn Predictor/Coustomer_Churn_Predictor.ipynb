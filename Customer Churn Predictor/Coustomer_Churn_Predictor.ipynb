{
  "metadata": {
    "kernelspec": {
      "language": "python",
      "display_name": "Python 3",
      "name": "python3"
    },
    "language_info": {
      "name": "python",
      "version": "3.7.12",
      "mimetype": "text/x-python",
      "codemirror_mode": {
        "name": "ipython",
        "version": 3
      },
      "pygments_lexer": "ipython3",
      "nbconvert_exporter": "python",
      "file_extension": ".py"
    },
    "kaggle": {
      "accelerator": "none",
      "dataSources": [
        {
          "sourceId": 1481789,
          "sourceType": "datasetVersion",
          "datasetId": 869651
        }
      ],
      "dockerImageVersionId": 30170,
      "isInternetEnabled": false,
      "language": "python",
      "sourceType": "notebook",
      "isGpuEnabled": false
    },
    "colab": {
      "name": "Coustomer Churn Predictor",
      "provenance": []
    }
  },
  "nbformat_minor": 0,
  "nbformat": 4,
  "cells": [
    {
      "source": [
        "# IMPORTANT: RUN THIS CELL IN ORDER TO IMPORT YOUR KAGGLE DATA SOURCES,\n",
        "# THEN FEEL FREE TO DELETE THIS CELL.\n",
        "# NOTE: THIS NOTEBOOK ENVIRONMENT DIFFERS FROM KAGGLE'S PYTHON\n",
        "# ENVIRONMENT SO THERE MAY BE MISSING LIBRARIES USED BY YOUR\n",
        "# NOTEBOOK.\n",
        "import kagglehub\n",
        "rjmanoj_credit_card_customer_churn_prediction_path = kagglehub.dataset_download('rjmanoj/credit-card-customer-churn-prediction')\n",
        "\n",
        "print('Data source import complete.')\n"
      ],
      "metadata": {
        "id": "N8uZgZax9p4W"
      },
      "cell_type": "code",
      "outputs": [],
      "execution_count": null
    },
    {
      "cell_type": "code",
      "source": [
        "# This Python 3 environment comes with many helpful analytics libraries installed\n",
        "# It is defined by the kaggle/python Docker image: https://github.com/kaggle/docker-python\n",
        "# For example, here's several helpful packages to load\n",
        "\n",
        "import numpy as np # linear algebra\n",
        "import pandas as pd # data processing, CSV file I/O (e.g. pd.read_csv)\n",
        "\n",
        "# Input data files are available in the read-only \"../input/\" directory\n",
        "# For example, running this (by clicking run or pressing Shift+Enter) will list all files under the input directory\n",
        "\n",
        "import os\n",
        "for dirname, _, filenames in os.walk('/kaggle/input'):\n",
        "    for filename in filenames:\n",
        "        print(os.path.join(dirname, filename))\n",
        "\n",
        "# You can write up to 20GB to the current directory (/kaggle/working/) that gets preserved as output when you create a version using \"Save & Run All\"\n",
        "# You can also write temporary files to /kaggle/temp/, but they won't be saved outside of the current session"
      ],
      "metadata": {
        "_uuid": "8f2839f25d086af736a60e9eeb907d3b93b6e0e5",
        "_cell_guid": "b1076dfc-b9ad-4769-8c92-a6c4dae69d19",
        "execution": {
          "iopub.status.busy": "2024-10-21T16:31:30.359557Z",
          "iopub.execute_input": "2024-10-21T16:31:30.359871Z",
          "iopub.status.idle": "2024-10-21T16:31:30.370099Z",
          "shell.execute_reply.started": "2024-10-21T16:31:30.359839Z",
          "shell.execute_reply": "2024-10-21T16:31:30.368891Z"
        },
        "trusted": true,
        "id": "Rda9ZIDm9p4d"
      },
      "execution_count": null,
      "outputs": []
    },
    {
      "cell_type": "code",
      "source": [
        "df = pd.read_csv('/kaggle/input/credit-card-customer-churn-prediction/Churn_Modelling.csv')"
      ],
      "metadata": {
        "execution": {
          "iopub.status.busy": "2024-10-21T16:31:30.373601Z",
          "iopub.execute_input": "2024-10-21T16:31:30.373895Z",
          "iopub.status.idle": "2024-10-21T16:31:30.408561Z",
          "shell.execute_reply.started": "2024-10-21T16:31:30.373861Z",
          "shell.execute_reply": "2024-10-21T16:31:30.407553Z"
        },
        "trusted": true,
        "id": "Mz6WLqNP9p4f"
      },
      "execution_count": null,
      "outputs": []
    },
    {
      "cell_type": "code",
      "source": [
        "df.head()"
      ],
      "metadata": {
        "execution": {
          "iopub.status.busy": "2024-10-21T16:31:30.410831Z",
          "iopub.execute_input": "2024-10-21T16:31:30.41163Z",
          "iopub.status.idle": "2024-10-21T16:31:30.436325Z",
          "shell.execute_reply.started": "2024-10-21T16:31:30.411581Z",
          "shell.execute_reply": "2024-10-21T16:31:30.435281Z"
        },
        "trusted": true,
        "id": "J-rsC9m69p4h"
      },
      "execution_count": null,
      "outputs": []
    },
    {
      "cell_type": "code",
      "source": [
        "df.info()"
      ],
      "metadata": {
        "execution": {
          "iopub.status.busy": "2024-10-21T16:31:30.438319Z",
          "iopub.execute_input": "2024-10-21T16:31:30.438665Z",
          "iopub.status.idle": "2024-10-21T16:31:30.46146Z",
          "shell.execute_reply.started": "2024-10-21T16:31:30.43862Z",
          "shell.execute_reply": "2024-10-21T16:31:30.460379Z"
        },
        "trusted": true,
        "id": "vqMwTQUZ9p4i"
      },
      "execution_count": null,
      "outputs": []
    },
    {
      "cell_type": "code",
      "source": [
        "df.duplicated().sum()"
      ],
      "metadata": {
        "execution": {
          "iopub.status.busy": "2024-10-21T16:31:30.464583Z",
          "iopub.execute_input": "2024-10-21T16:31:30.464942Z",
          "iopub.status.idle": "2024-10-21T16:31:30.484511Z",
          "shell.execute_reply.started": "2024-10-21T16:31:30.464896Z",
          "shell.execute_reply": "2024-10-21T16:31:30.483519Z"
        },
        "trusted": true,
        "id": "pfYpPZzI9p4j"
      },
      "execution_count": null,
      "outputs": []
    },
    {
      "cell_type": "code",
      "source": [
        "df.isnull().sum()"
      ],
      "metadata": {
        "execution": {
          "iopub.status.busy": "2024-10-21T16:31:30.48579Z",
          "iopub.execute_input": "2024-10-21T16:31:30.486082Z",
          "iopub.status.idle": "2024-10-21T16:31:30.501658Z",
          "shell.execute_reply.started": "2024-10-21T16:31:30.486038Z",
          "shell.execute_reply": "2024-10-21T16:31:30.500387Z"
        },
        "trusted": true,
        "id": "Q1z_hmBT9p4l"
      },
      "execution_count": null,
      "outputs": []
    },
    {
      "cell_type": "code",
      "source": [
        "df.drop(columns = ['RowNumber','CustomerId','Surname'],inplace=True)"
      ],
      "metadata": {
        "execution": {
          "iopub.status.busy": "2024-10-21T16:31:30.503226Z",
          "iopub.execute_input": "2024-10-21T16:31:30.503568Z",
          "iopub.status.idle": "2024-10-21T16:31:30.514965Z",
          "shell.execute_reply.started": "2024-10-21T16:31:30.503517Z",
          "shell.execute_reply": "2024-10-21T16:31:30.513132Z"
        },
        "trusted": true,
        "id": "0UBx_sxU9p4n"
      },
      "execution_count": null,
      "outputs": []
    },
    {
      "cell_type": "code",
      "source": [
        "df.head()"
      ],
      "metadata": {
        "execution": {
          "iopub.status.busy": "2024-10-21T16:31:30.516869Z",
          "iopub.execute_input": "2024-10-21T16:31:30.517241Z",
          "iopub.status.idle": "2024-10-21T16:31:30.543672Z",
          "shell.execute_reply.started": "2024-10-21T16:31:30.517199Z",
          "shell.execute_reply": "2024-10-21T16:31:30.542746Z"
        },
        "trusted": true,
        "id": "3fCgdIvy9p4n"
      },
      "execution_count": null,
      "outputs": []
    },
    {
      "cell_type": "code",
      "source": [
        "df['Exited'].value_counts()"
      ],
      "metadata": {
        "execution": {
          "iopub.status.busy": "2024-10-21T16:31:30.546578Z",
          "iopub.execute_input": "2024-10-21T16:31:30.546943Z",
          "iopub.status.idle": "2024-10-21T16:31:30.557863Z",
          "shell.execute_reply.started": "2024-10-21T16:31:30.546891Z",
          "shell.execute_reply": "2024-10-21T16:31:30.556793Z"
        },
        "trusted": true,
        "id": "CuRZQdU89p4p"
      },
      "execution_count": null,
      "outputs": []
    },
    {
      "cell_type": "code",
      "source": [
        "df['Geography'].value_counts()"
      ],
      "metadata": {
        "execution": {
          "iopub.status.busy": "2024-10-21T16:31:30.559626Z",
          "iopub.execute_input": "2024-10-21T16:31:30.559934Z",
          "iopub.status.idle": "2024-10-21T16:31:30.575737Z",
          "shell.execute_reply.started": "2024-10-21T16:31:30.55989Z",
          "shell.execute_reply": "2024-10-21T16:31:30.574758Z"
        },
        "trusted": true,
        "id": "DyDkZtfX9p4q"
      },
      "execution_count": null,
      "outputs": []
    },
    {
      "cell_type": "code",
      "source": [
        "df['Gender'].value_counts()"
      ],
      "metadata": {
        "execution": {
          "iopub.status.busy": "2024-10-21T16:31:30.577085Z",
          "iopub.execute_input": "2024-10-21T16:31:30.577446Z",
          "iopub.status.idle": "2024-10-21T16:31:30.594562Z",
          "shell.execute_reply.started": "2024-10-21T16:31:30.577403Z",
          "shell.execute_reply": "2024-10-21T16:31:30.593598Z"
        },
        "trusted": true,
        "id": "7iRx9Pfa9p4q"
      },
      "execution_count": null,
      "outputs": []
    },
    {
      "cell_type": "code",
      "source": [
        "df = pd.get_dummies(df,columns=['Geography','Gender'],drop_first=True)"
      ],
      "metadata": {
        "execution": {
          "iopub.status.busy": "2024-10-21T16:31:30.596119Z",
          "iopub.execute_input": "2024-10-21T16:31:30.596463Z",
          "iopub.status.idle": "2024-10-21T16:31:30.613857Z",
          "shell.execute_reply.started": "2024-10-21T16:31:30.596419Z",
          "shell.execute_reply": "2024-10-21T16:31:30.612175Z"
        },
        "trusted": true,
        "id": "rRdoJzs19p4r"
      },
      "execution_count": null,
      "outputs": []
    },
    {
      "cell_type": "code",
      "source": [
        "df.head()"
      ],
      "metadata": {
        "execution": {
          "iopub.status.busy": "2024-10-21T16:31:30.615679Z",
          "iopub.execute_input": "2024-10-21T16:31:30.616083Z",
          "iopub.status.idle": "2024-10-21T16:31:30.637431Z",
          "shell.execute_reply.started": "2024-10-21T16:31:30.616034Z",
          "shell.execute_reply": "2024-10-21T16:31:30.635998Z"
        },
        "trusted": true,
        "id": "Iw59n2QH9p4r"
      },
      "execution_count": null,
      "outputs": []
    },
    {
      "cell_type": "code",
      "source": [
        "X = df.drop(columns=['Exited'])\n",
        "y = df['Exited'].values\n",
        "\n",
        "from sklearn.model_selection import train_test_split\n",
        "X_train,X_test,y_train,y_test = train_test_split(X,y,test_size=0.2,random_state=0)"
      ],
      "metadata": {
        "execution": {
          "iopub.status.busy": "2024-10-21T16:31:30.640636Z",
          "iopub.execute_input": "2024-10-21T16:31:30.640946Z",
          "iopub.status.idle": "2024-10-21T16:31:30.656211Z",
          "shell.execute_reply.started": "2024-10-21T16:31:30.64091Z",
          "shell.execute_reply": "2024-10-21T16:31:30.655063Z"
        },
        "trusted": true,
        "id": "lV37GCf89p4r"
      },
      "execution_count": null,
      "outputs": []
    },
    {
      "cell_type": "code",
      "source": [
        "from sklearn.preprocessing import StandardScaler\n",
        "scaler = StandardScaler()\n",
        "\n",
        "X_train_trf = scaler.fit_transform(X_train)\n",
        "X_test_trf = scaler.transform(X_test)"
      ],
      "metadata": {
        "execution": {
          "iopub.status.busy": "2024-10-21T16:31:30.657721Z",
          "iopub.execute_input": "2024-10-21T16:31:30.658158Z",
          "iopub.status.idle": "2024-10-21T16:31:30.674673Z",
          "shell.execute_reply.started": "2024-10-21T16:31:30.658111Z",
          "shell.execute_reply": "2024-10-21T16:31:30.67358Z"
        },
        "trusted": true,
        "id": "vwHP7X8k9p4s"
      },
      "execution_count": null,
      "outputs": []
    },
    {
      "cell_type": "code",
      "source": [
        "import tensorflow\n",
        "from tensorflow import keras\n",
        "from tensorflow.keras import Sequential\n",
        "from tensorflow.keras.layers import Dense"
      ],
      "metadata": {
        "execution": {
          "iopub.status.busy": "2024-10-21T16:31:30.67688Z",
          "iopub.execute_input": "2024-10-21T16:31:30.677635Z",
          "iopub.status.idle": "2024-10-21T16:31:30.684335Z",
          "shell.execute_reply.started": "2024-10-21T16:31:30.677586Z",
          "shell.execute_reply": "2024-10-21T16:31:30.683222Z"
        },
        "trusted": true,
        "id": "8xTLRe3Z9p4s"
      },
      "execution_count": null,
      "outputs": []
    },
    {
      "cell_type": "code",
      "source": [
        "model = Sequential()\n",
        "\n",
        "model.add(Dense(11,activation='relu',input_dim=11))\n",
        "model.add(Dense(11,activation='relu'))\n",
        "model.add(Dense(1,activation='sigmoid'))"
      ],
      "metadata": {
        "execution": {
          "iopub.status.busy": "2024-10-21T16:31:30.685674Z",
          "iopub.execute_input": "2024-10-21T16:31:30.685942Z",
          "iopub.status.idle": "2024-10-21T16:31:30.733305Z",
          "shell.execute_reply.started": "2024-10-21T16:31:30.685912Z",
          "shell.execute_reply": "2024-10-21T16:31:30.731328Z"
        },
        "trusted": true,
        "id": "GJckU_8s9p4t"
      },
      "execution_count": null,
      "outputs": []
    },
    {
      "cell_type": "code",
      "source": [
        "model.summary()"
      ],
      "metadata": {
        "execution": {
          "iopub.status.busy": "2024-10-21T16:31:30.735335Z",
          "iopub.execute_input": "2024-10-21T16:31:30.735944Z",
          "iopub.status.idle": "2024-10-21T16:31:30.748033Z",
          "shell.execute_reply.started": "2024-10-21T16:31:30.735875Z",
          "shell.execute_reply": "2024-10-21T16:31:30.746695Z"
        },
        "trusted": true,
        "id": "NGonUhpu9p4t"
      },
      "execution_count": null,
      "outputs": []
    },
    {
      "cell_type": "code",
      "source": [
        "model.compile(optimizer='Adam',loss='binary_crossentropy',metrics=['accuracy'])"
      ],
      "metadata": {
        "execution": {
          "iopub.status.busy": "2024-10-21T16:31:30.749695Z",
          "iopub.execute_input": "2024-10-21T16:31:30.749993Z",
          "iopub.status.idle": "2024-10-21T16:31:30.768336Z",
          "shell.execute_reply.started": "2024-10-21T16:31:30.749935Z",
          "shell.execute_reply": "2024-10-21T16:31:30.766894Z"
        },
        "trusted": true,
        "id": "iKdkYlhu9p4u"
      },
      "execution_count": null,
      "outputs": []
    },
    {
      "cell_type": "code",
      "source": [
        "history = model.fit(X_train,y_train,batch_size=50,epochs=100,verbose=1,validation_split=0.2)"
      ],
      "metadata": {
        "execution": {
          "iopub.status.busy": "2024-10-21T16:31:30.76976Z",
          "iopub.execute_input": "2024-10-21T16:31:30.770291Z",
          "iopub.status.idle": "2024-10-21T16:32:14.584388Z",
          "shell.execute_reply.started": "2024-10-21T16:31:30.770191Z",
          "shell.execute_reply": "2024-10-21T16:32:14.583173Z"
        },
        "trusted": true,
        "id": "GSlN2kCa9p4u"
      },
      "execution_count": null,
      "outputs": []
    },
    {
      "cell_type": "code",
      "source": [
        "model.layers[0].get_weights()"
      ],
      "metadata": {
        "execution": {
          "iopub.status.busy": "2024-10-21T16:32:14.586524Z",
          "iopub.execute_input": "2024-10-21T16:32:14.58721Z",
          "iopub.status.idle": "2024-10-21T16:32:14.602322Z",
          "shell.execute_reply.started": "2024-10-21T16:32:14.587142Z",
          "shell.execute_reply": "2024-10-21T16:32:14.60105Z"
        },
        "trusted": true,
        "id": "5cmgWwmf9p4v"
      },
      "execution_count": null,
      "outputs": []
    },
    {
      "cell_type": "code",
      "source": [
        "y_pred = model.predict(X_test)"
      ],
      "metadata": {
        "execution": {
          "iopub.status.busy": "2024-10-21T16:32:14.603955Z",
          "iopub.execute_input": "2024-10-21T16:32:14.604304Z",
          "iopub.status.idle": "2024-10-21T16:32:14.840558Z",
          "shell.execute_reply.started": "2024-10-21T16:32:14.604269Z",
          "shell.execute_reply": "2024-10-21T16:32:14.838828Z"
        },
        "trusted": true,
        "id": "hdZYpjk69p4v"
      },
      "execution_count": null,
      "outputs": []
    },
    {
      "cell_type": "code",
      "source": [
        "y_pred"
      ],
      "metadata": {
        "execution": {
          "iopub.status.busy": "2024-10-21T16:32:14.84429Z",
          "iopub.execute_input": "2024-10-21T16:32:14.844604Z",
          "iopub.status.idle": "2024-10-21T16:32:14.852238Z",
          "shell.execute_reply.started": "2024-10-21T16:32:14.844568Z",
          "shell.execute_reply": "2024-10-21T16:32:14.851155Z"
        },
        "trusted": true,
        "id": "dZT-9MB_9p4v"
      },
      "execution_count": null,
      "outputs": []
    },
    {
      "cell_type": "code",
      "source": [
        "y_pred = y_pred.argmax(axis=-1)"
      ],
      "metadata": {
        "execution": {
          "iopub.status.busy": "2024-10-21T16:32:14.853954Z",
          "iopub.execute_input": "2024-10-21T16:32:14.854321Z",
          "iopub.status.idle": "2024-10-21T16:32:14.870047Z",
          "shell.execute_reply.started": "2024-10-21T16:32:14.854275Z",
          "shell.execute_reply": "2024-10-21T16:32:14.868208Z"
        },
        "trusted": true,
        "id": "0TtixVM79p4w"
      },
      "execution_count": null,
      "outputs": []
    },
    {
      "cell_type": "code",
      "source": [
        "from sklearn.metrics import accuracy_score\n",
        "accuracy_score(y_test,y_pred)"
      ],
      "metadata": {
        "execution": {
          "iopub.status.busy": "2024-10-21T16:32:14.871641Z",
          "iopub.execute_input": "2024-10-21T16:32:14.872038Z",
          "iopub.status.idle": "2024-10-21T16:32:14.893497Z",
          "shell.execute_reply.started": "2024-10-21T16:32:14.871958Z",
          "shell.execute_reply": "2024-10-21T16:32:14.892264Z"
        },
        "trusted": true,
        "id": "krjpAm4d9p4w"
      },
      "execution_count": null,
      "outputs": []
    },
    {
      "cell_type": "code",
      "source": [
        "import matplotlib.pyplot as plt\n",
        "\n",
        "plt.plot(history.history['loss'])\n",
        "plt.plot(history.history['val_loss'])"
      ],
      "metadata": {
        "execution": {
          "iopub.status.busy": "2024-10-21T16:32:14.895406Z",
          "iopub.execute_input": "2024-10-21T16:32:14.895731Z",
          "iopub.status.idle": "2024-10-21T16:32:15.095509Z",
          "shell.execute_reply.started": "2024-10-21T16:32:14.895685Z",
          "shell.execute_reply": "2024-10-21T16:32:15.094307Z"
        },
        "trusted": true,
        "id": "AD4VGt019p4x"
      },
      "execution_count": null,
      "outputs": []
    },
    {
      "cell_type": "code",
      "source": [
        "plt.plot(history.history['accuracy'])\n",
        "plt.plot(history.history['val_accuracy'])"
      ],
      "metadata": {
        "execution": {
          "iopub.status.busy": "2024-10-21T16:32:15.09708Z",
          "iopub.execute_input": "2024-10-21T16:32:15.09742Z",
          "iopub.status.idle": "2024-10-21T16:32:15.352099Z",
          "shell.execute_reply.started": "2024-10-21T16:32:15.097372Z",
          "shell.execute_reply": "2024-10-21T16:32:15.350486Z"
        },
        "trusted": true,
        "id": "nXycMj7A9p4y"
      },
      "execution_count": null,
      "outputs": []
    },
    {
      "cell_type": "code",
      "source": [],
      "metadata": {
        "id": "jXk1imaS9p4y"
      },
      "execution_count": null,
      "outputs": []
    }
  ]
}